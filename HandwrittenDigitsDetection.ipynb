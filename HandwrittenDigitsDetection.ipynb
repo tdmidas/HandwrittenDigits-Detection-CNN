{
  "nbformat": 4,
  "nbformat_minor": 0,
  "metadata": {
    "colab": {
      "provenance": []
    },
    "kernelspec": {
      "name": "python3",
      "display_name": "Python 3"
    },
    "language_info": {
      "name": "python"
    }
  },
  "cells": [
    {
      "cell_type": "code",
      "execution_count": 1,
      "metadata": {
        "id": "C8j68ANUOmsM"
      },
      "outputs": [],
      "source": [
        "import numpy as np\n",
        "import matplotlib.pyplot as plt\n",
        "from keras.models import Sequential\n",
        "from keras.layers import Dense, Dropout, Activation, Flatten\n",
        "from keras.layers import Conv2D, MaxPooling2D\n",
        "from keras.utils import to_categorical\n",
        "from keras.datasets import mnist\n",
        "from sklearn.model_selection import train_test_split\n",
        "import tensorflow as tf\n",
        "from sklearn.metrics import precision_score, recall_score, f1_score\n"
      ]
    },
    {
      "cell_type": "code",
      "source": [
        "(x, y), (_, _) = mnist.load_data()\n"
      ],
      "metadata": {
        "id": "ukXMRVoiOqmz",
        "colab": {
          "base_uri": "https://localhost:8080/"
        },
        "outputId": "f7ae6478-9d94-4a4c-b00b-80d5b0248af7"
      },
      "execution_count": 2,
      "outputs": [
        {
          "output_type": "stream",
          "name": "stdout",
          "text": [
            "Downloading data from https://storage.googleapis.com/tensorflow/tf-keras-datasets/mnist.npz\n",
            "11490434/11490434 [==============================] - 0s 0us/step\n"
          ]
        }
      ]
    },
    {
      "cell_type": "code",
      "source": [
        "# Split trainning set by (70%) and temp (30%)\n",
        "x_train, x_temp, y_train, y_temp = train_test_split(x, y, test_size=0.3, random_state=42)\n",
        "\n",
        "# Then, split the temp set into validation (50%) and test (50%)\n",
        "x_val, x_test, y_val, y_test = train_test_split(x_temp, y_temp, test_size=0.5, random_state=42)"
      ],
      "metadata": {
        "id": "ATrAFPITOwzw"
      },
      "execution_count": 3,
      "outputs": []
    },
    {
      "cell_type": "code",
      "source": [
        "print(f\"the shape of the training set (input) is: {x_train.shape}\")\n",
        "print(f\"the shape of the training set (target) is: {y_train.shape}\\n\")\n",
        "print(f\"the shape of the cross validation set (input) is: {x_val.shape}\")\n",
        "print(f\"the shape of the cross validation set (target) is: {y_val.shape}\\n\")\n",
        "print(f\"the shape of the test set (input) is: {x_test.shape}\")\n",
        "print(f\"the shape of the test set (target) is: {y_test.shape}\")"
      ],
      "metadata": {
        "colab": {
          "base_uri": "https://localhost:8080/"
        },
        "id": "Fcmvnt3bO2-f",
        "outputId": "b1fbf6a4-e4f6-463e-c855-3c857cd29798"
      },
      "execution_count": 4,
      "outputs": [
        {
          "output_type": "stream",
          "name": "stdout",
          "text": [
            "the shape of the training set (input) is: (42000, 28, 28)\n",
            "the shape of the training set (target) is: (42000,)\n",
            "\n",
            "the shape of the cross validation set (input) is: (9000, 28, 28)\n",
            "the shape of the cross validation set (target) is: (9000,)\n",
            "\n",
            "the shape of the test set (input) is: (9000, 28, 28)\n",
            "the shape of the test set (target) is: (9000,)\n"
          ]
        }
      ]
    },
    {
      "cell_type": "code",
      "source": [
        "# Reshape dataset based on keras\n",
        "x_train = x_train.reshape(x_train.shape[0], 28, 28, 1)\n",
        "x_val = x_val.reshape(x_val.shape[0], 28, 28, 1)\n",
        "x_test = x_test.reshape(x_test.shape[0], 28, 28, 1)\n",
        "print(x_train.shape)"
      ],
      "metadata": {
        "id": "ivvBw8YYPtAj",
        "colab": {
          "base_uri": "https://localhost:8080/"
        },
        "outputId": "672e070c-0e52-42a7-b743-3be78c44a213"
      },
      "execution_count": 6,
      "outputs": [
        {
          "output_type": "stream",
          "name": "stdout",
          "text": [
            "(42000, 28, 28, 1)\n"
          ]
        }
      ]
    },
    {
      "cell_type": "code",
      "source": [
        "# One hot encoding label\n",
        "y_train = to_categorical(y_train, 10)\n",
        "y_val = to_categorical(y_val, 10)\n",
        "y_test = to_categorical(y_test, 10)\n",
        "print('Original y ', y_train[0])\n",
        "print('y after one-hot encoding ',y_train[0])"
      ],
      "metadata": {
        "colab": {
          "base_uri": "https://localhost:8080/"
        },
        "id": "MA_r1j7VbYLC",
        "outputId": "a8c77cbc-624e-4897-961a-49e96584da4c"
      },
      "execution_count": null,
      "outputs": [
        {
          "output_type": "stream",
          "name": "stdout",
          "text": [
            "Original y  [0. 0. 0. 0. 0. 0. 0. 1. 0. 0.]\n",
            "y after one-hot encoding  [0. 0. 0. 0. 0. 0. 0. 1. 0. 0.]\n"
          ]
        }
      ]
    },
    {
      "cell_type": "code",
      "source": [
        "tf.random.set_seed(1234)\n",
        "model = Sequential(\n",
        "    [\n",
        "    Conv2D(32, (3, 3), activation='sigmoid', input_shape=(28, 28, 1)),\n",
        "    Conv2D(32, (3, 3), activation='sigmoid'),\n",
        "    MaxPooling2D(pool_size=(2, 2)),\n",
        "    Flatten(),\n",
        "    Dense(128, activation='sigmoid'),\n",
        "    Dense(10, activation='softmax')\n",
        "    ]\n",
        ")\n",
        "model.summary()"
      ],
      "metadata": {
        "colab": {
          "base_uri": "https://localhost:8080/"
        },
        "id": "YsveTka0beEU",
        "outputId": "ef812337-72bd-4aa4-8c3d-a0dbf680e1a4"
      },
      "execution_count": null,
      "outputs": [
        {
          "output_type": "stream",
          "name": "stdout",
          "text": [
            "Model: \"sequential_5\"\n",
            "_________________________________________________________________\n",
            " Layer (type)                Output Shape              Param #   \n",
            "=================================================================\n",
            " conv2d_10 (Conv2D)          (None, 26, 26, 32)        320       \n",
            "                                                                 \n",
            " conv2d_11 (Conv2D)          (None, 24, 24, 32)        9248      \n",
            "                                                                 \n",
            " max_pooling2d_5 (MaxPoolin  (None, 12, 12, 32)        0         \n",
            " g2D)                                                            \n",
            "                                                                 \n",
            " flatten_5 (Flatten)         (None, 4608)              0         \n",
            "                                                                 \n",
            " dense_10 (Dense)            (None, 128)               589952    \n",
            "                                                                 \n",
            " dense_11 (Dense)            (None, 10)                1290      \n",
            "                                                                 \n",
            "=================================================================\n",
            "Total params: 600810 (2.29 MB)\n",
            "Trainable params: 600810 (2.29 MB)\n",
            "Non-trainable params: 0 (0.00 Byte)\n",
            "_________________________________________________________________\n"
          ]
        }
      ]
    },
    {
      "cell_type": "code",
      "source": [
        "model.compile(loss=tf.keras.losses.CategoricalCrossentropy(from_logits=True),\n",
        "    optimizer=tf.keras.optimizers.Adam(0.001),\n",
        "              metrics=['accuracy'])"
      ],
      "metadata": {
        "id": "6vK1jAkFenoE"
      },
      "execution_count": null,
      "outputs": []
    },
    {
      "cell_type": "code",
      "source": [
        "H = model.fit(x_train, y_train, validation_data=(x_val, y_val),\n",
        "batch_size=32, epochs=10, verbose=1)"
      ],
      "metadata": {
        "colab": {
          "base_uri": "https://localhost:8080/"
        },
        "id": "rtErpa89cBG3",
        "outputId": "7961d2ad-cc77-432d-8dd6-d6e58b965fd6"
      },
      "execution_count": null,
      "outputs": [
        {
          "output_type": "stream",
          "name": "stdout",
          "text": [
            "Epoch 1/10\n",
            "1313/1313 [==============================] - 45s 34ms/step - loss: 0.0124 - accuracy: 0.9962 - val_loss: 0.0428 - val_accuracy: 0.9887\n",
            "Epoch 2/10\n",
            "1313/1313 [==============================] - 46s 35ms/step - loss: 0.0017 - accuracy: 0.9996 - val_loss: 0.0487 - val_accuracy: 0.9874\n",
            "Epoch 3/10\n",
            "1313/1313 [==============================] - 45s 34ms/step - loss: 0.0020 - accuracy: 0.9995 - val_loss: 0.0475 - val_accuracy: 0.9888\n",
            "Epoch 4/10\n",
            "1313/1313 [==============================] - 45s 34ms/step - loss: 0.0021 - accuracy: 0.9995 - val_loss: 0.0416 - val_accuracy: 0.9907\n",
            "Epoch 5/10\n",
            "1313/1313 [==============================] - 44s 34ms/step - loss: 0.0024 - accuracy: 0.9994 - val_loss: 0.0446 - val_accuracy: 0.9887\n",
            "Epoch 6/10\n",
            "1313/1313 [==============================] - 45s 34ms/step - loss: 5.0649e-04 - accuracy: 1.0000 - val_loss: 0.0419 - val_accuracy: 0.9900\n",
            "Epoch 7/10\n",
            "1313/1313 [==============================] - 44s 34ms/step - loss: 2.5502e-04 - accuracy: 1.0000 - val_loss: 0.0415 - val_accuracy: 0.9906\n",
            "Epoch 8/10\n",
            "1313/1313 [==============================] - 45s 35ms/step - loss: 6.0493e-05 - accuracy: 1.0000 - val_loss: 0.0410 - val_accuracy: 0.9912\n",
            "Epoch 9/10\n",
            "1313/1313 [==============================] - 44s 34ms/step - loss: 3.6171e-05 - accuracy: 1.0000 - val_loss: 0.0413 - val_accuracy: 0.9913\n",
            "Epoch 10/10\n",
            "1313/1313 [==============================] - 47s 36ms/step - loss: 2.4036e-05 - accuracy: 1.0000 - val_loss: 0.0412 - val_accuracy: 0.9909\n"
          ]
        }
      ]
    },
    {
      "cell_type": "code",
      "source": [
        "fig = plt.figure()\n",
        "numOfEpoch = 10\n",
        "plt.plot(np.arange(0, numOfEpoch), H.history['loss'], label='training loss')\n",
        "plt.plot(np.arange(0, numOfEpoch), H.history['val_loss'], label='validation loss')\n",
        "plt.plot(np.arange(0, numOfEpoch), H.history['accuracy'], label='accuracy')\n",
        "plt.plot(np.arange(0, numOfEpoch), H.history['val_accuracy'], label='validation accuracy')\n",
        "plt.title('Accuracy and Loss')\n",
        "plt.xlabel('Epoch')\n",
        "plt.ylabel('Loss|Accuracy')\n",
        "plt.legend()"
      ],
      "metadata": {
        "colab": {
          "base_uri": "https://localhost:8080/",
          "height": 489
        },
        "id": "pvRYhdYvnYZs",
        "outputId": "3f53d0e5-28df-48f6-e71b-ba5e4cd64ebd"
      },
      "execution_count": null,
      "outputs": [
        {
          "output_type": "execute_result",
          "data": {
            "text/plain": [
              "<matplotlib.legend.Legend at 0x7bfaa4733610>"
            ]
          },
          "metadata": {},
          "execution_count": 99
        },
        {
          "output_type": "display_data",
          "data": {
            "text/plain": [
              "<Figure size 640x480 with 1 Axes>"
            ],
            "image/png": "[encoded data removed]"
          },
          "metadata": {}
        }
      ]
    },
    {
      "cell_type": "code",
      "source": [
        "score = model.evaluate(x_test, y_test,batch_size=32, verbose=0)\n",
        "print('Loss: , Accuracy: ',score)"
      ],
      "metadata": {
        "id": "LIMzKBo_easR",
        "colab": {
          "base_uri": "https://localhost:8080/"
        },
        "outputId": "e347d9f9-69e5-4ed7-a8c1-88c913c1bf00"
      },
      "execution_count": null,
      "outputs": [
        {
          "output_type": "stream",
          "name": "stdout",
          "text": [
            "Loss: , Accuracy:  [0.04135167971253395, 0.9897778034210205]\n"
          ]
        }
      ]
    },
    {
      "cell_type": "code",
      "source": [
        "# Predict single images\n",
        "plt.imshow(x_test[0].reshape(28,28), cmap='gray')\n",
        "y_predict = model.predict(x_test[0].reshape(1,28,28,1))\n",
        "print('Predicted number ', np.argmax(y_predict))"
      ],
      "metadata": {
        "colab": {
          "base_uri": "https://localhost:8080/",
          "height": 465
        },
        "id": "w5X8nLlF8ZLd",
        "outputId": "136257aa-b624-4587-c898-ecad13cbdc8d"
      },
      "execution_count": null,
      "outputs": [
        {
          "output_type": "stream",
          "name": "stdout",
          "text": [
            "1/1 [==============================] - 0s 23ms/step\n",
            "Predicted number  7\n"
          ]
        },
        {
          "output_type": "display_data",
          "data": {
            "text/plain": [
              "<Figure size 640x480 with 1 Axes>"
            ],
            "image/png": "[encoded data removed]"
          },
          "metadata": {}
        }
      ]
    },
    {
      "cell_type": "code",
      "source": [
        "# Predict all images\n",
        "y_predict = model.predict(x_test)\n"
      ],
      "metadata": {
        "colab": {
          "base_uri": "https://localhost:8080/"
        },
        "id": "j5EgumBAjtwj",
        "outputId": "5e9e63ea-16fe-4f57-adbf-5abeefd8f691"
      },
      "execution_count": null,
      "outputs": [
        {
          "output_type": "stream",
          "name": "stdout",
          "text": [
            "282/282 [==============================] - 3s 9ms/step\n"
          ]
        }
      ]
    },
    {
      "cell_type": "code",
      "source": [
        "y_predict_bin = np.where(y_predict > 0.5, 1., 0.)\n"
      ],
      "metadata": {
        "id": "cxcY1-ur49Yw"
      },
      "execution_count": null,
      "outputs": []
    },
    {
      "cell_type": "code",
      "source": [
        "# Calculate Precision, Recall, and F1 Score\n",
        "precision = precision_score(y_test, y_predict_bin,average='micro')\n",
        "recall = recall_score(y_test, y_predict_bin,average='micro')\n",
        "f1 = f1_score(y_test, y_predict_bin,average='micro')\n",
        "\n",
        "# Display the results\n",
        "print(f\"Precision: {precision}\")\n",
        "print(f\"Recall: {recall}\")\n",
        "print(f\"F1 Score: {f1}\")"
      ],
      "metadata": {
        "colab": {
          "base_uri": "https://localhost:8080/"
        },
        "id": "EcqFB2B0k4l7",
        "outputId": "ac182535-6bb9-4a1c-9a5b-2e65353d8df3"
      },
      "execution_count": null,
      "outputs": [
        {
          "output_type": "stream",
          "name": "stdout",
          "text": [
            "Precision: 0.9904412581971769\n",
            "Recall: 0.9901111111111112\n",
            "F1 Score: 0.9902761571373008\n"
          ]
        }
      ]
    },
    {
      "cell_type": "code",
      "source": [],
      "metadata": {
        "id": "zc3Kay794U7_"
      },
      "execution_count": null,
      "outputs": []
    }
  ]
}